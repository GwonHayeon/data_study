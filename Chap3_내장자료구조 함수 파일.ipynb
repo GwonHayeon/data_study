{
 "cells": [
  {
   "cell_type": "markdown",
   "id": "b81fb2db",
   "metadata": {},
   "source": [
    "### 3.1 자료구조와 순차 자료형\n",
    "#### 1) 튜플 : 한 번 할당되면 변경할수 없는, 고정 길이를 갖는 순차 자료형"
   ]
  },
  {
   "cell_type": "code",
   "execution_count": 1,
   "id": "e2c14ca4",
   "metadata": {},
   "outputs": [],
   "source": [
    "tup = (4,5,6) #괄호 생략 가능"
   ]
  },
  {
   "cell_type": "code",
   "execution_count": 2,
   "id": "37871243",
   "metadata": {},
   "outputs": [
    {
     "data": {
      "text/plain": [
       "tuple"
      ]
     },
     "execution_count": 2,
     "metadata": {},
     "output_type": "execute_result"
    }
   ],
   "source": [
    "type(tup)"
   ]
  },
  {
   "cell_type": "markdown",
   "id": "cd8e8851",
   "metadata": {},
   "source": [
    "- 모든 순차 자료형이나 이터레이터는 tuple 메서드를 통해 튜플로 변환할 수 있다"
   ]
  },
  {
   "cell_type": "code",
   "execution_count": 3,
   "id": "bd8ad8d5",
   "metadata": {},
   "outputs": [
    {
     "data": {
      "text/plain": [
       "(4, 0, 2)"
      ]
     },
     "execution_count": 3,
     "metadata": {},
     "output_type": "execute_result"
    }
   ],
   "source": [
    "tuple([4,0,2])"
   ]
  },
  {
   "cell_type": "code",
   "execution_count": 5,
   "id": "2cbfeb27",
   "metadata": {},
   "outputs": [
    {
     "data": {
      "text/plain": [
       "('s', 't', 'r', 'i', 'n', 'g')"
      ]
     },
     "execution_count": 5,
     "metadata": {},
     "output_type": "execute_result"
    }
   ],
   "source": [
    "tup = tuple('string')\n",
    "tup"
   ]
  },
  {
   "cell_type": "code",
   "execution_count": 6,
   "id": "69816ed1",
   "metadata": {},
   "outputs": [
    {
     "data": {
      "text/plain": [
       "'s'"
      ]
     },
     "execution_count": 6,
     "metadata": {},
     "output_type": "execute_result"
    }
   ],
   "source": [
    "tup[0] #각 원소는 대괄호를 이용해 다른 순차 자료형처럼 접근 가능"
   ]
  },
  {
   "cell_type": "markdown",
   "id": "ba481302",
   "metadata": {},
   "source": [
    "#### 튜플에서 값 분리하기"
   ]
  },
  {
   "cell_type": "code",
   "execution_count": 1,
   "id": "e0036269",
   "metadata": {},
   "outputs": [
    {
     "name": "stdout",
     "output_type": "stream",
     "text": [
      "5\n"
     ]
    }
   ],
   "source": [
    "tup = (4,5,6)\n",
    "a,b,c = tup\n",
    "print(b)"
   ]
  },
  {
   "cell_type": "markdown",
   "id": "875ef1ec",
   "metadata": {},
   "source": [
    "#### 튜플메서드"
   ]
  },
  {
   "cell_type": "code",
   "execution_count": 2,
   "id": "2e4043bf",
   "metadata": {},
   "outputs": [
    {
     "data": {
      "text/plain": [
       "1"
      ]
     },
     "execution_count": 2,
     "metadata": {},
     "output_type": "execute_result"
    }
   ],
   "source": [
    "a=(1,2,3,4,5)\n",
    "a.count(2)"
   ]
  },
  {
   "cell_type": "markdown",
   "id": "c3f1434a",
   "metadata": {},
   "source": [
    "#### 2) 리스트"
   ]
  },
  {
   "cell_type": "code",
   "execution_count": 3,
   "id": "808e8e41",
   "metadata": {},
   "outputs": [
    {
     "data": {
      "text/plain": [
       "['foo', 'bar', 'baz']"
      ]
     },
     "execution_count": 3,
     "metadata": {},
     "output_type": "execute_result"
    }
   ],
   "source": [
    "a_list = [2,3,6,None]\n",
    "tup = (\"foo\",\"bar\",\"baz\")\n",
    "b_list = list(tup)\n",
    "b_list"
   ]
  },
  {
   "cell_type": "code",
   "execution_count": 4,
   "id": "602db6eb",
   "metadata": {},
   "outputs": [
    {
     "data": {
      "text/plain": [
       "['foo', 'peekaboo', 'baz']"
      ]
     },
     "execution_count": 4,
     "metadata": {},
     "output_type": "execute_result"
    }
   ],
   "source": [
    "b_list[1] = \"peekaboo\"\n",
    "b_list"
   ]
  },
  {
   "cell_type": "markdown",
   "id": "f6679101",
   "metadata": {},
   "source": [
    "#### 원소 추가 삭제 => append"
   ]
  },
  {
   "cell_type": "code",
   "execution_count": 5,
   "id": "c49508a3",
   "metadata": {},
   "outputs": [
    {
     "data": {
      "text/plain": [
       "['foo', 'peekaboo', 'baz', 'dwarf']"
      ]
     },
     "execution_count": 5,
     "metadata": {},
     "output_type": "execute_result"
    }
   ],
   "source": [
    "b_list.append(\"dwarf\")\n",
    "b_list"
   ]
  },
  {
   "cell_type": "code",
   "execution_count": 6,
   "id": "08010868",
   "metadata": {},
   "outputs": [
    {
     "data": {
      "text/plain": [
       "['foo', 'red', 'peekaboo', 'baz', 'dwarf']"
      ]
     },
     "execution_count": 6,
     "metadata": {},
     "output_type": "execute_result"
    }
   ],
   "source": [
    "b_list.insert(1,\"red\")\n",
    "b_list"
   ]
  },
  {
   "cell_type": "code",
   "execution_count": 7,
   "id": "199ab043",
   "metadata": {},
   "outputs": [
    {
     "data": {
      "text/plain": [
       "'peekaboo'"
      ]
     },
     "execution_count": 7,
     "metadata": {},
     "output_type": "execute_result"
    }
   ],
   "source": [
    "b_list.pop(2)"
   ]
  },
  {
   "cell_type": "code",
   "execution_count": 8,
   "id": "764dc2bc",
   "metadata": {},
   "outputs": [
    {
     "data": {
      "text/plain": [
       "['foo', 'red', 'baz', 'dwarf']"
      ]
     },
     "execution_count": 8,
     "metadata": {},
     "output_type": "execute_result"
    }
   ],
   "source": [
    "b_list"
   ]
  },
  {
   "cell_type": "markdown",
   "id": "1af3dd19",
   "metadata": {},
   "source": [
    "#### +를 이용하여 리스트 이어붙이기 가능 튜플도 가능"
   ]
  },
  {
   "cell_type": "code",
   "execution_count": 9,
   "id": "c11a5e94",
   "metadata": {},
   "outputs": [
    {
     "data": {
      "text/plain": [
       "[4, None, 'foo', 7, 8, (2, 3)]"
      ]
     },
     "execution_count": 9,
     "metadata": {},
     "output_type": "execute_result"
    }
   ],
   "source": [
    "[4,None,\"foo\"] + [7,8,(2,3)]"
   ]
  },
  {
   "cell_type": "markdown",
   "id": "8e7bf346",
   "metadata": {},
   "source": [
    "- 슬라이싱 : 리스트[start:stop] 으로 크기만큼 잘라낼 수 있음\n",
    "  - 간격을 지정하고싶으면 seq[::step] 와 같은식으로 이용"
   ]
  },
  {
   "cell_type": "markdown",
   "id": "7b840b4b",
   "metadata": {},
   "source": [
    "### 3) 딕셔너리 (중요)\n",
    "- 키-값 쌍으로 이루어진 자료구조"
   ]
  },
  {
   "cell_type": "code",
   "execution_count": 11,
   "id": "597734da",
   "metadata": {},
   "outputs": [
    {
     "data": {
      "text/plain": [
       "{'a': 'some value', 'b': [1, 2, 3, 4]}"
      ]
     },
     "execution_count": 11,
     "metadata": {},
     "output_type": "execute_result"
    }
   ],
   "source": [
    "empty_dict = {}\n",
    "d1 = {\"a\":\"some value\",\"b\":[1,2,3,4]}\n",
    "d1\n",
    "{'a':'some value', 'b':[1,2,3,4]}"
   ]
  },
  {
   "cell_type": "markdown",
   "id": "1b5475f7",
   "metadata": {},
   "source": [
    "- 리스트나 튜플처럼 딕셔너리 값에 접근하거나 값 입력 가능"
   ]
  },
  {
   "cell_type": "code",
   "execution_count": 12,
   "id": "3f76c014",
   "metadata": {},
   "outputs": [
    {
     "data": {
      "text/plain": [
       "{'a': 'some value', 'b': [1, 2, 3, 4], 7: 'an integer'}"
      ]
     },
     "execution_count": 12,
     "metadata": {},
     "output_type": "execute_result"
    }
   ],
   "source": [
    "d1[7] = \"an integer\"\n",
    "d1"
   ]
  },
  {
   "cell_type": "code",
   "execution_count": 13,
   "id": "fe2f584c",
   "metadata": {},
   "outputs": [
    {
     "data": {
      "text/plain": [
       "[1, 2, 3, 4]"
      ]
     },
     "execution_count": 13,
     "metadata": {},
     "output_type": "execute_result"
    }
   ],
   "source": [
    "d1[\"b\"]"
   ]
  },
  {
   "cell_type": "markdown",
   "id": "2bebf23f",
   "metadata": {},
   "source": [
    "- del 예약어나 pop 메서드를 통해 딕셔너리값을 삭제할 수 있음"
   ]
  },
  {
   "cell_type": "code",
   "execution_count": 15,
   "id": "5437e196",
   "metadata": {},
   "outputs": [
    {
     "data": {
      "text/plain": [
       "{'a': 'some value', 'b': [1, 2, 3, 4]}"
      ]
     },
     "execution_count": 15,
     "metadata": {},
     "output_type": "execute_result"
    }
   ],
   "source": [
    "del d1[7]\n",
    "d1"
   ]
  },
  {
   "cell_type": "markdown",
   "id": "ede412c9",
   "metadata": {},
   "source": [
    "- 키와 값이 담긴 이터레이터를 반환"
   ]
  },
  {
   "cell_type": "code",
   "execution_count": 17,
   "id": "41b32657",
   "metadata": {},
   "outputs": [
    {
     "data": {
      "text/plain": [
       "['a', 'b']"
      ]
     },
     "execution_count": 17,
     "metadata": {},
     "output_type": "execute_result"
    }
   ],
   "source": [
    "list(d1.keys())"
   ]
  },
  {
   "cell_type": "code",
   "execution_count": 19,
   "id": "cc1c3cee",
   "metadata": {},
   "outputs": [
    {
     "data": {
      "text/plain": [
       "['some value', [1, 2, 3, 4]]"
      ]
     },
     "execution_count": 19,
     "metadata": {},
     "output_type": "execute_result"
    }
   ],
   "source": [
    "list(d1.values())"
   ]
  },
  {
   "cell_type": "code",
   "execution_count": 20,
   "id": "29a8c6f6",
   "metadata": {},
   "outputs": [
    {
     "data": {
      "text/plain": [
       "[('a', 'some value'), ('b', [1, 2, 3, 4])]"
      ]
     },
     "execution_count": 20,
     "metadata": {},
     "output_type": "execute_result"
    }
   ],
   "source": [
    "#반복작업을 하는경우 items 메서드 사용\n",
    "list(d1.items())"
   ]
  },
  {
   "cell_type": "code",
   "execution_count": 21,
   "id": "4e815c21",
   "metadata": {},
   "outputs": [],
   "source": [
    "#update 메서드는 하나의 딕셔너리를 다른 딕셔너리와 합칠 수 있음\n",
    "d1.update({\"b\":\"foo\",\"c\":12})"
   ]
  },
  {
   "cell_type": "code",
   "execution_count": 22,
   "id": "f358dc7a",
   "metadata": {},
   "outputs": [
    {
     "data": {
      "text/plain": [
       "{'a': 'some value', 'b': 'foo', 'c': 12}"
      ]
     },
     "execution_count": 22,
     "metadata": {},
     "output_type": "execute_result"
    }
   ],
   "source": [
    "d1"
   ]
  },
  {
   "cell_type": "markdown",
   "id": "b437a6ce",
   "metadata": {},
   "source": [
    "#### 딕셔너리 생성하기"
   ]
  },
  {
   "cell_type": "code",
   "execution_count": null,
   "id": "a553baef",
   "metadata": {},
   "outputs": [],
   "source": [
    "mapping = {}\n",
    "for key,value in zip(key_list, value_list):\n",
    "    mapping[key] = value"
   ]
  },
  {
   "cell_type": "markdown",
   "id": "5bcdb5f1",
   "metadata": {},
   "source": [
    "#### 기본값"
   ]
  },
  {
   "cell_type": "code",
   "execution_count": null,
   "id": "35252ae3",
   "metadata": {},
   "outputs": [],
   "source": [
    "if key in some_dict:\n",
    "    value = some_dict[key]\n",
    "else:\n",
    "    value = default_value\n",
    "#또는\n",
    "value = some_dict.get(key, default_value)\n",
    "# get은 기본적으로 해당 키가 존재하지 않을 경우 None을 반환하며 pop 메서드는 예외를 발생"
   ]
  },
  {
   "cell_type": "code",
   "execution_count": 24,
   "id": "74205d17",
   "metadata": {},
   "outputs": [],
   "source": [
    "#리스트의 첫글자를 키로 하여 단어를 값으로 묶는 코드\n",
    "words = [\"apple\",\"bat\",\"bar\",\"atom\",\"book\"]\n",
    "by_letter = {}\n",
    "for word in words:\n",
    "    letter = word[0]\n",
    "    if letter not in by_letter:\n",
    "        by_letter[letter] = [word]\n",
    "    else:\n",
    "        by_letter[letter].append(word)"
   ]
  },
  {
   "cell_type": "code",
   "execution_count": 25,
   "id": "0c0222e6",
   "metadata": {},
   "outputs": [
    {
     "data": {
      "text/plain": [
       "{'a': ['apple', 'atom'], 'b': ['bat', 'bar', 'book']}"
      ]
     },
     "execution_count": 25,
     "metadata": {},
     "output_type": "execute_result"
    }
   ],
   "source": [
    "by_letter"
   ]
  },
  {
   "cell_type": "code",
   "execution_count": 26,
   "id": "dda5f24f",
   "metadata": {},
   "outputs": [
    {
     "data": {
      "text/plain": [
       "{'a': ['apple', 'atom'], 'b': ['bat', 'bar', 'book']}"
      ]
     },
     "execution_count": 26,
     "metadata": {},
     "output_type": "execute_result"
    }
   ],
   "source": [
    "#setdefault 메서드\n",
    "by_letter = {}\n",
    "for word in words:\n",
    "    letter = word[0]\n",
    "    by_letter.setdefault(letter,[]).append(word)\n",
    "by_letter"
   ]
  },
  {
   "cell_type": "code",
   "execution_count": 27,
   "id": "25da1c94",
   "metadata": {},
   "outputs": [],
   "source": [
    "#collection 모듈\n",
    "from collections import defaultdict\n",
    "by_letter = defaultdict(list)\n",
    "for word in words:\n",
    "    by_letter[word[0]].append(word)"
   ]
  },
  {
   "cell_type": "markdown",
   "id": "ec44e187",
   "metadata": {},
   "source": [
    "#### 딕셔너리의 키로 사용할 수 있느지는 hash함수를 사용해서 검사 가능\n",
    "- hash(키값)\n",
    "- 이를 이용하면 리스트는 변경 가능한값이라 키값으로 사용하지 못한다는 사실을 알 수 있음\n",
    "  - 고로 튜플은 가능"
   ]
  },
  {
   "cell_type": "markdown",
   "id": "4cad0e41",
   "metadata": {},
   "source": [
    "#### 4) 집합\n",
    "- 고유한 원소만 담는 정렬되지 않는 자료형\n",
    "- 교집합(intersection or &), 합집합(union or |), 차집합(difference or -) 등의 연산 가능\n",
    "- 딕셔너리처럼 일반적으로 변경이 불가능, 해시 가능해야한다\n",
    "- 어떤 집합이 다른 집합의 부분집합인지 상위 집합인지도 검사할 수 있음"
   ]
  },
  {
   "cell_type": "markdown",
   "id": "71cb01c4",
   "metadata": {},
   "source": [
    "#### 5) 내장 순차 자료형 함수\n",
    "- enumerate : 순차 자료형에서 현재 아이템의 색인을 함게 추적할 때 흔히 사용\n",
    "- sorted : 정렬된 순차 자료형 반환\n",
    "- zip : 리스트나 튜플 또는 다른 순차 자료형을 찍지어서 튜플 리스트 생성\n",
    "- reversed : 순차 자료형을 역순으로 순회"
   ]
  },
  {
   "cell_type": "markdown",
   "id": "96c1f497",
   "metadata": {},
   "source": [
    "#### 6) 리스트, 집합, 딕셔너리의 표기법\n",
    "- 리스트 : [expr for value in collection if condition]\n",
    "- 딕셔너리 = {key-expr: value-expr for value in collection if condition}\n",
    "- 집합 = {expr for value in collection if condition"
   ]
  },
  {
   "cell_type": "code",
   "execution_count": 32,
   "id": "99cb8ea6",
   "metadata": {},
   "outputs": [
    {
     "data": {
      "text/plain": [
       "['Maria', 'Natlia']"
      ]
     },
     "execution_count": 32,
     "metadata": {},
     "output_type": "execute_result"
    }
   ],
   "source": [
    "#### 중첩된 리스트 표기법\n",
    "all_data = [[\"John\",\"Eily\",\"Michael\", \"Mary\", \"Steven\"], [\"Maria\",\"Juan\",\"Javier\",\"Natlia\",\"Pilar\"]]\n",
    "names_of_interest = []\n",
    "for names in all_data:\n",
    "    enough_as = [name for name in names if name.count(\"a\")>=2]\n",
    "    names_of_interest.extend(enough_as)\n",
    "names_of_interest"
   ]
  },
  {
   "cell_type": "code",
   "execution_count": 34,
   "id": "602291c5",
   "metadata": {},
   "outputs": [
    {
     "data": {
      "text/plain": [
       "['Maria', 'Natlia']"
      ]
     },
     "execution_count": 34,
     "metadata": {},
     "output_type": "execute_result"
    }
   ],
   "source": [
    "#### 리스트 표기법\n",
    "result = [name for names in all_data for name in names\n",
    "         if name.count(\"a\")>=2]\n",
    "result"
   ]
  },
  {
   "cell_type": "markdown",
   "id": "3877c6fc",
   "metadata": {},
   "source": [
    "### 3.2 함수"
   ]
  },
  {
   "cell_type": "markdown",
   "id": "0a20f511",
   "metadata": {},
   "source": [
    "#### 1) 네임스페이스, 스코프, 지역함수\n",
    "- 함수는 전역과 지역 두 가지 스코프에서 변수를 참조\n",
    "- 변수의 스코프를 설명하는 다른 용어로 네임스페이스가 있음\n",
    "- 함수 내에서 선언된 변수는 기본적으로 모두 지역 네임스페이스에 속함\n",
    "- 지역 네임스페이스는 함수가 호출될 때 생성되며 함수의 인수를 통해 즉시 생성\n"
   ]
  },
  {
   "cell_type": "code",
   "execution_count": 35,
   "id": "2328f33b",
   "metadata": {},
   "outputs": [],
   "source": [
    "def func():\n",
    "    a = []\n",
    "    for i in range(5):\n",
    "        a.append(i)"
   ]
  },
  {
   "cell_type": "code",
   "execution_count": 36,
   "id": "dd072229",
   "metadata": {},
   "outputs": [],
   "source": [
    "#### 2) 여러값 반환하기\n",
    "def f():\n",
    "    a=5\n",
    "    b=6\n",
    "    c=7\n",
    "    return a,b,c\n",
    "a,b,c = f()"
   ]
  },
  {
   "cell_type": "markdown",
   "id": "e3152e79",
   "metadata": {},
   "source": [
    "#### 3) 함수도 객체다\n",
    "- 문자열 리스트정형화"
   ]
  },
  {
   "cell_type": "code",
   "execution_count": 37,
   "id": "7e68363d",
   "metadata": {},
   "outputs": [],
   "source": [
    "#re 표준 라이브러리\n",
    "import re\n",
    "def clean_strings(strings):\n",
    "    result = []\n",
    "    for value in strings:\n",
    "        value = value.strip()\n",
    "        value = re.sub(\"[!#?]\",\"\",value)\n",
    "        value = value.title()\n",
    "        result.append(value)\n",
    "    return result"
   ]
  },
  {
   "cell_type": "code",
   "execution_count": 38,
   "id": "ed5f9f30",
   "metadata": {},
   "outputs": [
    {
     "data": {
      "text/plain": [
       "['Albama',\n",
       " 'Georgia',\n",
       " 'Georgia',\n",
       " 'Georgia',\n",
       " 'Florida',\n",
       " 'South    Carlina',\n",
       " 'West Virginia']"
      ]
     },
     "execution_count": 38,
     "metadata": {},
     "output_type": "execute_result"
    }
   ],
   "source": [
    "states = [\"   Albama\",\"Georgia!\",\"Georgia\",\"georgia\",\"FLOrIda\",\"south    carlina##\",\"West virginia?\"]\n",
    "clean_strings(states)"
   ]
  },
  {
   "cell_type": "code",
   "execution_count": 44,
   "id": "3de58622",
   "metadata": {},
   "outputs": [],
   "source": [
    "#적용할 함수를 리스트에 담아두고 문자열에 적용\n",
    "def remove_punctuation(value):\n",
    "    return re.sub(\"[!#?]\",\"\",value)\n",
    "\n",
    "clean_ops = [str.strip, remove_punctuation, str.title]\n",
    "\n",
    "def clean_strings(strings, ops):\n",
    "    result = []\n",
    "    for value in strings:\n",
    "        for func in ops:\n",
    "            value = func(value)\n",
    "        result.append(value)\n",
    "    return result"
   ]
  },
  {
   "cell_type": "code",
   "execution_count": 45,
   "id": "e4efdca3",
   "metadata": {},
   "outputs": [
    {
     "data": {
      "text/plain": [
       "['Albama',\n",
       " 'Georgia',\n",
       " 'Georgia',\n",
       " 'Georgia',\n",
       " 'Florida',\n",
       " 'South    Carlina',\n",
       " 'West Virginia']"
      ]
     },
     "execution_count": 45,
     "metadata": {},
     "output_type": "execute_result"
    }
   ],
   "source": [
    "clean_strings(states, clean_ops)"
   ]
  },
  {
   "cell_type": "code",
   "execution_count": 46,
   "id": "4e9ea466",
   "metadata": {},
   "outputs": [
    {
     "name": "stdout",
     "output_type": "stream",
     "text": [
      "   Albama\n",
      "Georgia\n",
      "Georgia\n",
      "georgia\n",
      "FLOrIda\n",
      "south    carlina\n",
      "West virginia\n"
     ]
    }
   ],
   "source": [
    "#map함수를 이용해서 함수를 인수로 사용\n",
    "for x in map(remove_punctuation, states):\n",
    "    print(x)"
   ]
  },
  {
   "cell_type": "markdown",
   "id": "04ccb098",
   "metadata": {},
   "source": [
    "#### 4) 람다함수\n",
    "- 익명함수 정의 (익명함수 선언)"
   ]
  },
  {
   "cell_type": "code",
   "execution_count": 47,
   "id": "debabf16",
   "metadata": {},
   "outputs": [],
   "source": [
    "#함수식\n",
    "def short_function(x):\n",
    "    return x*2\n",
    "#람다식\n",
    "equiv_anon = lambda x: x*2"
   ]
  },
  {
   "cell_type": "markdown",
   "id": "8882218d",
   "metadata": {},
   "source": [
    "#### 5) 제너레이터\n",
    "- 순회 가능한 객체를 생성하는 간단한 방법\n",
    "- return 대신 yield 예약어를 사용"
   ]
  },
  {
   "cell_type": "code",
   "execution_count": 51,
   "id": "5bca33d9",
   "metadata": {},
   "outputs": [],
   "source": [
    "def squares(n=10):\n",
    "    print(f\"Generating squares from 1 to {n ** 2}\")\n",
    "    for i in range(1, n+1):\n",
    "        yield i ** 2"
   ]
  },
  {
   "cell_type": "code",
   "execution_count": 53,
   "id": "4565f6bc",
   "metadata": {},
   "outputs": [
    {
     "name": "stdout",
     "output_type": "stream",
     "text": [
      "Generating squares from 1 to 100\n",
      "1 4 9 16 25 36 49 64 81 100 "
     ]
    }
   ],
   "source": [
    "#제너레이터 호출이 아니라 값을 요청해야 코드가 실행\n",
    "gen = squares()\n",
    "for x in gen:\n",
    "    print(x, end=\" \")"
   ]
  },
  {
   "cell_type": "code",
   "execution_count": null,
   "id": "ef20d7e4",
   "metadata": {},
   "outputs": [],
   "source": [
    "# 제너레이터 표현식\n",
    "gen = (x ** 2 for x in range(100))"
   ]
  },
  {
   "cell_type": "markdown",
   "id": "1a918e28",
   "metadata": {},
   "source": [
    "#### 6) 예외처리\n",
    "- IPython에서 예외처리\n",
    "- %run examples/ipython_bug.py"
   ]
  },
  {
   "cell_type": "markdown",
   "id": "7f579025",
   "metadata": {},
   "source": [
    "### 3.3 파일과 운영체제\n",
    "- 내장함수 open을 이용해 파일의 상대경로나 절대 경로를 넘겨주어야 함\n",
    "- path = \"examples/segismundo.txt\"\n",
    "- f = open(path, encoding=\"utf-8\")"
   ]
  },
  {
   "cell_type": "markdown",
   "id": "8a304037",
   "metadata": {},
   "source": [
    "- 파이썬 파일모드\n",
    "- r: 읽기전용\n",
    "- w: 쓰기전용. 새 파일 생성하는데 이미 존재하면 덮어씀\n",
    "- x: 쓰기전용. 새 파일 생성하는데 이미 존재하면 실패함\n",
    "- a: 기존파일에 추가 (존재하지 않으면 새로 생성)\n",
    "- r+ : 읽기/쓰기모드\n",
    "- b : 이진 파일 모드\n",
    "- t : 텍스트모드"
   ]
  },
  {
   "cell_type": "code",
   "execution_count": 1,
   "id": "b672f479",
   "metadata": {},
   "outputs": [],
   "source": [
    "from datetime import datetime, date,time"
   ]
  },
  {
   "cell_type": "code",
   "execution_count": 8,
   "id": "e0f159ab",
   "metadata": {},
   "outputs": [
    {
     "data": {
      "text/plain": [
       "29"
      ]
     },
     "execution_count": 8,
     "metadata": {},
     "output_type": "execute_result"
    }
   ],
   "source": [
    "dt = datetime(2011,10,29,20,30)\n",
    "dt.day"
   ]
  },
  {
   "cell_type": "code",
   "execution_count": 3,
   "id": "548f4f31",
   "metadata": {},
   "outputs": [
    {
     "data": {
      "text/plain": [
       "30"
      ]
     },
     "execution_count": 3,
     "metadata": {},
     "output_type": "execute_result"
    }
   ],
   "source": [
    "dt.minute"
   ]
  },
  {
   "cell_type": "code",
   "execution_count": 10,
   "id": "3baaa892",
   "metadata": {},
   "outputs": [],
   "source": [
    "dt_hour = dt.replace(minute=0,second=0)"
   ]
  },
  {
   "cell_type": "code",
   "execution_count": 11,
   "id": "fa752ea1",
   "metadata": {},
   "outputs": [
    {
     "data": {
      "text/plain": [
       "datetime.datetime(2011, 10, 29, 20, 0)"
      ]
     },
     "execution_count": 11,
     "metadata": {},
     "output_type": "execute_result"
    }
   ],
   "source": [
    "dt_hour"
   ]
  },
  {
   "cell_type": "code",
   "execution_count": null,
   "id": "b70d3480",
   "metadata": {},
   "outputs": [],
   "source": []
  }
 ],
 "metadata": {
  "kernelspec": {
   "display_name": "Python 3 (ipykernel)",
   "language": "python",
   "name": "python3"
  },
  "language_info": {
   "codemirror_mode": {
    "name": "ipython",
    "version": 3
   },
   "file_extension": ".py",
   "mimetype": "text/x-python",
   "name": "python",
   "nbconvert_exporter": "python",
   "pygments_lexer": "ipython3",
   "version": "3.10.9"
  }
 },
 "nbformat": 4,
 "nbformat_minor": 5
}
